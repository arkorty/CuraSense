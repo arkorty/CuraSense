import pandas as pd
import matplotlib.pyplot as plt
import seaborn as sns

# Load the data
sensor_data = pd.read_csv('../data/raw/sensor_data.csv')
admission_data = pd.read_csv('../data/raw/admission_data.csv')

# Display basic information about the datasets
print(sensor_data.info())
print(admission_data.info())

# Summary statistics
print(sensor_data.describe())
print(admission_data.describe())

# Visualize distributions of sensor data
fig, axes = plt.subplots(3, 2, figsize=(15, 15))
sns.histplot(sensor_data['heart_rate'], ax=axes[0, 0])
sns.histplot(sensor_data['blood_oxygen'], ax=axes[0, 1])
sns.histplot(sensor_data['systolic_bp'], ax=axes[1, 0])
sns.histplot(sensor_data['diastolic_bp'], ax=axes[1, 1])
sns.histplot(sensor_data['body_temp'], ax=axes[2, 0])
sns.histplot(sensor_data['body_weight'], ax=axes[2, 1])
plt.tight_layout()
plt.show()

# Visualize admission data
plt.figure(figsize=(10, 6))
sns.countplot(x='condition', data=admission_data)
plt.title('Distribution of Admission Conditions')
plt.xticks(rotation=45)
plt.show()

# Correlation matrix for sensor data
plt.figure(figsize=(10, 8))
sns.heatmap(sensor_data.drop(['patient_id', 'timestamp'], axis=1).corr(), annot=True, cmap='coolwarm')
plt.title('Correlation Matrix of Sensor Data')
plt.show()
